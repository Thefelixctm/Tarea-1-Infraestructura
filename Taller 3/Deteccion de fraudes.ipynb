{
 "cells": [
  {
   "cell_type": "code",
   "execution_count": null,
   "id": "dfc97702",
   "metadata": {},
   "outputs": [],
   "source": [
    "\n",
    "#Bibliotecas\n",
    "import pandas as pd\n",
    "import numpy as np\n",
    "from sklearn.model_selection import train_test_split\n",
    "from sklearn.preprocessing import StandardScaler\n",
    "from sklearn.linear_model import LogisticRegression\n",
    "from sklearn.ensemble import RandomForestClassifier\n",
    "from sklearn.neural_network import MLPClassifier\n",
    "from sklearn.tree import DecisionTreeClassifier\n",
    "from sklearn.discriminant_analysis import LinearDiscriminantAnalysis\n",
    "from sklearn.metrics import classification_report, roc_auc_score, roc_curve\n",
    "import matplotlib.pyplot as plt\n",
    "import seaborn as sns"
   ]
  },
  {
   "cell_type": "code",
   "execution_count": null,
   "id": "56aca72e",
   "metadata": {},
   "outputs": [],
   "source": [
    "#Ruta archivo CSV\n",
    "ruta_archivo = r\"C:\\Users\\Tokyotech\\Desktop\\weas u\\Infra\\Tarea 3\\Dataset\\creditcard.csv\""
   ]
  },
  {
   "cell_type": "code",
   "execution_count": null,
   "id": "da4dde01",
   "metadata": {},
   "outputs": [
    {
     "name": "stdout",
     "output_type": "stream",
     "text": [
      "Archivo CSV leído correctamente.\n"
     ]
    }
   ],
   "source": [
    "#Archivo CSV en un DataFrame de Pandas\n",
    "try:\n",
    "    df = pd.read_csv(ruta_archivo)\n",
    "    print(\"Archivo CSV leído correctamente.\")\n",
    "except FileNotFoundError:\n",
    "    print(f\"Error: El archivo '{ruta_archivo}' no se encuentra.\")\n",
    "except Exception as e:\n",
    "    print(f\"Error al leer el archivo CSV: {e}\")\n",
    "    df = None  "
   ]
  },
  {
   "cell_type": "code",
   "execution_count": null,
   "id": "eff8689e",
   "metadata": {},
   "outputs": [
    {
     "name": "stdout",
     "output_type": "stream",
     "text": [
      "Primeras 5 filas:\n",
      "   Time        V1        V2        V3        V4        V5        V6        V7  \\\n",
      "0   0.0 -1.359807 -0.072781  2.536347  1.378155 -0.338321  0.462388  0.239599   \n",
      "1   0.0  1.191857  0.266151  0.166480  0.448154  0.060018 -0.082361 -0.078803   \n",
      "2   1.0 -1.358354 -1.340163  1.773209  0.379780 -0.503198  1.800499  0.791461   \n",
      "3   1.0 -0.966272 -0.185226  1.792993 -0.863291 -0.010309  1.247203  0.237609   \n",
      "4   2.0 -1.158233  0.877737  1.548718  0.403034 -0.407193  0.095921  0.592941   \n",
      "\n",
      "         V8        V9  ...       V21       V22       V23       V24       V25  \\\n",
      "0  0.098698  0.363787  ... -0.018307  0.277838 -0.110474  0.066928  0.128539   \n",
      "1  0.085102 -0.255425  ... -0.225775 -0.638672  0.101288 -0.339846  0.167170   \n",
      "2  0.247676 -1.514654  ...  0.247998  0.771679  0.909412 -0.689281 -0.327642   \n",
      "3  0.377436 -1.387024  ... -0.108300  0.005274 -0.190321 -1.175575  0.647376   \n",
      "4 -0.270533  0.817739  ... -0.009431  0.798278 -0.137458  0.141267 -0.206010   \n",
      "\n",
      "        V26       V27       V28  Amount  Class  \n",
      "0 -0.189115  0.133558 -0.021053  149.62      0  \n",
      "1  0.125895 -0.008983  0.014724    2.69      0  \n",
      "2 -0.139097 -0.055353 -0.059752  378.66      0  \n",
      "3 -0.221929  0.062723  0.061458  123.50      0  \n",
      "4  0.502292  0.219422  0.215153   69.99      0  \n",
      "\n",
      "[5 rows x 31 columns]\n",
      "\n",
      "Últimas 5 filas:\n",
      "            Time         V1         V2        V3        V4        V5  \\\n",
      "284802  172786.0 -11.881118  10.071785 -9.834783 -2.066656 -5.364473   \n",
      "284803  172787.0  -0.732789  -0.055080  2.035030 -0.738589  0.868229   \n",
      "284804  172788.0   1.919565  -0.301254 -3.249640 -0.557828  2.630515   \n",
      "284805  172788.0  -0.240440   0.530483  0.702510  0.689799 -0.377961   \n",
      "284806  172792.0  -0.533413  -0.189733  0.703337 -0.506271 -0.012546   \n",
      "\n",
      "              V6        V7        V8        V9  ...       V21       V22  \\\n",
      "284802 -2.606837 -4.918215  7.305334  1.914428  ...  0.213454  0.111864   \n",
      "284803  1.058415  0.024330  0.294869  0.584800  ...  0.214205  0.924384   \n",
      "284804  3.031260 -0.296827  0.708417  0.432454  ...  0.232045  0.578229   \n",
      "284805  0.623708 -0.686180  0.679145  0.392087  ...  0.265245  0.800049   \n",
      "284806 -0.649617  1.577006 -0.414650  0.486180  ...  0.261057  0.643078   \n",
      "\n",
      "             V23       V24       V25       V26       V27       V28  Amount  \\\n",
      "284802  1.014480 -0.509348  1.436807  0.250034  0.943651  0.823731    0.77   \n",
      "284803  0.012463 -1.016226 -0.606624 -0.395255  0.068472 -0.053527   24.79   \n",
      "284804 -0.037501  0.640134  0.265745 -0.087371  0.004455 -0.026561   67.88   \n",
      "284805 -0.163298  0.123205 -0.569159  0.546668  0.108821  0.104533   10.00   \n",
      "284806  0.376777  0.008797 -0.473649 -0.818267 -0.002415  0.013649  217.00   \n",
      "\n",
      "        Class  \n",
      "284802      0  \n",
      "284803      0  \n",
      "284804      0  \n",
      "284805      0  \n",
      "284806      0  \n",
      "\n",
      "[5 rows x 31 columns]\n",
      "\n",
      "Información del DataFrame:\n",
      "<class 'pandas.core.frame.DataFrame'>\n",
      "RangeIndex: 284807 entries, 0 to 284806\n",
      "Data columns (total 31 columns):\n",
      " #   Column  Non-Null Count   Dtype  \n",
      "---  ------  --------------   -----  \n",
      " 0   Time    284807 non-null  float64\n",
      " 1   V1      284807 non-null  float64\n",
      " 2   V2      284807 non-null  float64\n",
      " 3   V3      284807 non-null  float64\n",
      " 4   V4      284807 non-null  float64\n",
      " 5   V5      284807 non-null  float64\n",
      " 6   V6      284807 non-null  float64\n",
      " 7   V7      284807 non-null  float64\n",
      " 8   V8      284807 non-null  float64\n",
      " 9   V9      284807 non-null  float64\n",
      " 10  V10     284807 non-null  float64\n",
      " 11  V11     284807 non-null  float64\n",
      " 12  V12     284807 non-null  float64\n",
      " 13  V13     284807 non-null  float64\n",
      " 14  V14     284807 non-null  float64\n",
      " 15  V15     284807 non-null  float64\n",
      " 16  V16     284807 non-null  float64\n",
      " 17  V17     284807 non-null  float64\n",
      " 18  V18     284807 non-null  float64\n",
      " 19  V19     284807 non-null  float64\n",
      " 20  V20     284807 non-null  float64\n",
      " 21  V21     284807 non-null  float64\n",
      " 22  V22     284807 non-null  float64\n",
      " 23  V23     284807 non-null  float64\n",
      " 24  V24     284807 non-null  float64\n",
      " 25  V25     284807 non-null  float64\n",
      " 26  V26     284807 non-null  float64\n",
      " 27  V27     284807 non-null  float64\n",
      " 28  V28     284807 non-null  float64\n",
      " 29  Amount  284807 non-null  float64\n",
      " 30  Class   284807 non-null  int64  \n",
      "dtypes: float64(30), int64(1)\n",
      "memory usage: 67.4 MB\n",
      "None\n",
      "\n",
      "Estadísticas descriptivas:\n",
      "                Time            V1            V2            V3            V4  \\\n",
      "count  284807.000000  2.848070e+05  2.848070e+05  2.848070e+05  2.848070e+05   \n",
      "mean    94813.859575  1.168375e-15  3.416908e-16 -1.379537e-15  2.074095e-15   \n",
      "std     47488.145955  1.958696e+00  1.651309e+00  1.516255e+00  1.415869e+00   \n",
      "min         0.000000 -5.640751e+01 -7.271573e+01 -4.832559e+01 -5.683171e+00   \n",
      "25%     54201.500000 -9.203734e-01 -5.985499e-01 -8.903648e-01 -8.486401e-01   \n",
      "50%     84692.000000  1.810880e-02  6.548556e-02  1.798463e-01 -1.984653e-02   \n",
      "75%    139320.500000  1.315642e+00  8.037239e-01  1.027196e+00  7.433413e-01   \n",
      "max    172792.000000  2.454930e+00  2.205773e+01  9.382558e+00  1.687534e+01   \n",
      "\n",
      "                 V5            V6            V7            V8            V9  \\\n",
      "count  2.848070e+05  2.848070e+05  2.848070e+05  2.848070e+05  2.848070e+05   \n",
      "mean   9.604066e-16  1.487313e-15 -5.556467e-16  1.213481e-16 -2.406331e-15   \n",
      "std    1.380247e+00  1.332271e+00  1.237094e+00  1.194353e+00  1.098632e+00   \n",
      "min   -1.137433e+02 -2.616051e+01 -4.355724e+01 -7.321672e+01 -1.343407e+01   \n",
      "25%   -6.915971e-01 -7.682956e-01 -5.540759e-01 -2.086297e-01 -6.430976e-01   \n",
      "50%   -5.433583e-02 -2.741871e-01  4.010308e-02  2.235804e-02 -5.142873e-02   \n",
      "75%    6.119264e-01  3.985649e-01  5.704361e-01  3.273459e-01  5.971390e-01   \n",
      "max    3.480167e+01  7.330163e+01  1.205895e+02  2.000721e+01  1.559499e+01   \n",
      "\n",
      "       ...           V21           V22           V23           V24  \\\n",
      "count  ...  2.848070e+05  2.848070e+05  2.848070e+05  2.848070e+05   \n",
      "mean   ...  1.654067e-16 -3.568593e-16  2.578648e-16  4.473266e-15   \n",
      "std    ...  7.345240e-01  7.257016e-01  6.244603e-01  6.056471e-01   \n",
      "min    ... -3.483038e+01 -1.093314e+01 -4.480774e+01 -2.836627e+00   \n",
      "25%    ... -2.283949e-01 -5.423504e-01 -1.618463e-01 -3.545861e-01   \n",
      "50%    ... -2.945017e-02  6.781943e-03 -1.119293e-02  4.097606e-02   \n",
      "75%    ...  1.863772e-01  5.285536e-01  1.476421e-01  4.395266e-01   \n",
      "max    ...  2.720284e+01  1.050309e+01  2.252841e+01  4.584549e+00   \n",
      "\n",
      "                V25           V26           V27           V28         Amount  \\\n",
      "count  2.848070e+05  2.848070e+05  2.848070e+05  2.848070e+05  284807.000000   \n",
      "mean   5.340915e-16  1.683437e-15 -3.660091e-16 -1.227390e-16      88.349619   \n",
      "std    5.212781e-01  4.822270e-01  4.036325e-01  3.300833e-01     250.120109   \n",
      "min   -1.029540e+01 -2.604551e+00 -2.256568e+01 -1.543008e+01       0.000000   \n",
      "25%   -3.171451e-01 -3.269839e-01 -7.083953e-02 -5.295979e-02       5.600000   \n",
      "50%    1.659350e-02 -5.213911e-02  1.342146e-03  1.124383e-02      22.000000   \n",
      "75%    3.507156e-01  2.409522e-01  9.104512e-02  7.827995e-02      77.165000   \n",
      "max    7.519589e+00  3.517346e+00  3.161220e+01  3.384781e+01   25691.160000   \n",
      "\n",
      "               Class  \n",
      "count  284807.000000  \n",
      "mean        0.001727  \n",
      "std         0.041527  \n",
      "min         0.000000  \n",
      "25%         0.000000  \n",
      "50%         0.000000  \n",
      "75%         0.000000  \n",
      "max         1.000000  \n",
      "\n",
      "[8 rows x 31 columns]\n",
      "\n",
      "Valores nulos por columna:\n",
      "Time      0\n",
      "V1        0\n",
      "V2        0\n",
      "V3        0\n",
      "V4        0\n",
      "V5        0\n",
      "V6        0\n",
      "V7        0\n",
      "V8        0\n",
      "V9        0\n",
      "V10       0\n",
      "V11       0\n",
      "V12       0\n",
      "V13       0\n",
      "V14       0\n",
      "V15       0\n",
      "V16       0\n",
      "V17       0\n",
      "V18       0\n",
      "V19       0\n",
      "V20       0\n",
      "V21       0\n",
      "V22       0\n",
      "V23       0\n",
      "V24       0\n",
      "V25       0\n",
      "V26       0\n",
      "V27       0\n",
      "V28       0\n",
      "Amount    0\n",
      "Class     0\n",
      "dtype: int64\n",
      "\n",
      "Filas duplicadas:\n",
      "1081\n"
     ]
    }
   ],
   "source": [
    "if df is not None:  #Se verifica que df se haya cargado correctamente\n",
    "    #Mostramos las primeras filas del DataFrame\n",
    "    print(\"Primeras 5 filas:\")\n",
    "    print(df.head())  # O df.head(10) para mostrar las primeras 10 filas\n",
    "\n",
    "    #Mostramos las últimas filas del DataFrame\n",
    "    print(\"\\nÚltimas 5 filas:\")\n",
    "    print(df.tail())\n",
    "\n",
    "    #Información sobre las columnas, tipos de datos y valores nulos\n",
    "    print(\"\\nInformación del DataFrame:\")\n",
    "    print(df.info())\n",
    "\n",
    "    #Estadísticas descriptivas de las columnas numéricas\n",
    "    print(\"\\nEstadísticas descriptivas:\")\n",
    "    print(df.describe())\n",
    "\n",
    "    #Contamos la cantidad de valores nulos en cada columna\n",
    "    print(\"\\nValores nulos por columna:\")\n",
    "    print(df.isnull().sum())\n",
    "\n",
    "    #Contamos la cantidad de filas duplicadas\n",
    "    print(\"\\nFilas duplicadas:\")\n",
    "    print(df.duplicated().sum())"
   ]
  },
  {
   "cell_type": "code",
   "execution_count": null,
   "id": "7a46a169",
   "metadata": {},
   "outputs": [
    {
     "name": "stdout",
     "output_type": "stream",
     "text": [
      "Tamaño del DataFrame antes de eliminar duplicados: 284807\n",
      "Tamaño del DataFrame después de eliminar duplicados: 283726\n",
      "Cantidad de filas duplicadas restantes: 0\n"
     ]
    }
   ],
   "source": [
    "#Eliminar Filas duplicadas.\n",
    "print(f\"Tamaño del DataFrame antes de eliminar duplicados: {len(df)}\")\n",
    "df = df.drop_duplicates()\n",
    "print(f\"Tamaño del DataFrame después de eliminar duplicados: {len(df)}\")\n",
    "\n",
    "#Verificamos que se hayan eliminado los duplicados\n",
    "print(f\"Cantidad de filas duplicadas restantes: {df.duplicated().sum()}\") "
   ]
  },
  {
   "cell_type": "code",
   "execution_count": null,
   "id": "5d3392d5",
   "metadata": {},
   "outputs": [
    {
     "name": "stdout",
     "output_type": "stream",
     "text": [
      "Total de transacciones (después de eliminar duplicados): 283726\n",
      "Transacciones fraudulentas (Class=1): 473 (0.17%)\n",
      "Transacciones no fraudulentas (Class=0): 283253 (99.83%)\n"
     ]
    }
   ],
   "source": [
    "#Mostrar la distribución de las clases (DESPUÉS de eliminar duplicados)\n",
    "num_fraudes = df['Class'].value_counts()[1] if 1 in df['Class'].value_counts() else 0# Cuenta los '1'\n",
    "num_no_fraudes = df['Class'].value_counts()[0] if 0 in df['Class'].value_counts() else 0# Cuenta los '0'\n",
    "total_transacciones = len(df)\n",
    "\n",
    "print(f\"Total de transacciones (después de eliminar duplicados): {total_transacciones}\")\n",
    "print(f\"Transacciones fraudulentas (Class=1): {num_fraudes} ({num_fraudes / total_transacciones * 100:.2f}%)\")\n",
    "print(f\"Transacciones no fraudulentas (Class=0): {num_no_fraudes} ({num_no_fraudes / total_transacciones * 100:.2f}%)\")"
   ]
  },
  {
   "cell_type": "code",
   "execution_count": null,
   "id": "59294ac4",
   "metadata": {},
   "outputs": [
    {
     "name": "stdout",
     "output_type": "stream",
     "text": [
      "   Time  Time_Scaled  Hora_Seno  Hora_Coseno\n",
      "0   0.0     0.000000   0.000000          1.0\n",
      "1   0.0     0.000000   0.000000          1.0\n",
      "2   1.0     0.000006   0.000073          1.0\n",
      "3   1.0     0.000006   0.000073          1.0\n",
      "4   2.0     0.000012   0.000145          1.0\n"
     ]
    }
   ],
   "source": [
    "#Time_Scaled: Escalar ‘Time’ al rango [0, 1] puede ayudar a algunos modelos a converger más rápidamente.\n",
    "#Hora_Seno y Hora_Coseno: Usar seno y coseno permite al modelo entender que la hora 23:59 está cerca de la hora 00:00. Si solo usáramos la hora como un número (0-23), el modelo no captaría esta relación cíclica.\n",
    "\n",
    "#Escala 'Time' al rango [0, 1]\n",
    "df['Time_Scaled'] = df['Time'] / df['Time'].max()\n",
    "\n",
    "#Extrae la hora del día (en formato cíclico)\n",
    "df['Hora_Seno'] = np.sin(2 * np.pi * df['Time'] / (60 * 60 * 24))\n",
    "df['Hora_Coseno'] = np.cos(2 * np.pi * df['Time'] / (60 * 60 * 24))\n",
    "\n",
    "#Muestra las nuevas columnas\n",
    "print(df[['Time', 'Time_Scaled', 'Hora_Seno', 'Hora_Coseno']].head())"
   ]
  },
  {
   "cell_type": "code",
   "execution_count": null,
   "id": "06d9ef4a",
   "metadata": {},
   "outputs": [
    {
     "name": "stdout",
     "output_type": "stream",
     "text": [
      "count    283726.000000\n",
      "mean         88.472687\n",
      "std         250.399437\n",
      "min           0.000000\n",
      "25%           5.600000\n",
      "50%          22.000000\n",
      "75%          77.510000\n",
      "max       25691.160000\n",
      "Name: Amount, dtype: float64\n"
     ]
    }
   ],
   "source": [
    "#Estadísticas descriptivas de 'Amount'\n",
    "print(df['Amount'].describe())"
   ]
  },
  {
   "cell_type": "code",
   "execution_count": null,
   "id": "c77a306e",
   "metadata": {},
   "outputs": [
    {
     "data": {
      "image/png": "[encoded data removed]",
      "text/plain": [
       "<Figure size 1200x500 with 2 Axes>"
      ]
     },
     "metadata": {},
     "output_type": "display_data"
    },
    {
     "name": "stdout",
     "output_type": "stream",
     "text": [
      "   Amount  Amount_Log  Amount_Scaled\n",
      "0  149.62    5.008099       0.244200\n",
      "1    2.69    0.989545      -0.342584\n",
      "2  378.66    5.936639       1.158900\n",
      "3  123.50    4.816241       0.139886\n",
      "4   69.99    4.248353      -0.073813\n"
     ]
    }
   ],
   "source": [
    "#Transformación Logarítmica (para reducir el sesgo)\n",
    "df['Amount_Log'] = np.log(df['Amount'] + 1e-5)  #Añade un pequeño valor para evitar log(0)\n",
    "\n",
    "#La transformación logarítmica es muy útil para reducir el sesgo en los datos. np.log(df['Amount'] + 1e-5) aplica el logaritmo natural a cada valor de ‘Amount’, añadiendo un pequeño valor (1e-5) para evitar errores cuando ‘Amount’ es cero.\n",
    "\n",
    "# Estandarización (para escalar los datos)\n",
    "scaler = StandardScaler()\n",
    "df['Amount_Scaled'] = scaler.fit_transform(df[['Amount']])\n",
    "\n",
    "#La estandarización (usando StandardScaler) escala los datos para que tengan una media de 0 y una desviación estándar de 1. Esto es útil para algoritmos que son sensibles a la escala de las características (como las redes neuronales o los algoritmos basados en distancias).\n",
    "\n",
    "#Visualizacion de las transformaciones\n",
    "plt.figure(figsize=(12, 5))\n",
    "\n",
    "plt.subplot(1, 2, 1)\n",
    "sns.histplot(df['Amount_Log'], kde=True)\n",
    "plt.title('Distribución Logarítmica del Monto')\n",
    "\n",
    "plt.subplot(1, 2, 2)\n",
    "sns.histplot(df['Amount_Scaled'], kde=True)\n",
    "plt.title('Distribución Estandarizada del Monto')\n",
    "\n",
    "plt.show()\n",
    "\n",
    "print(df[['Amount', 'Amount_Log', 'Amount_Scaled']].head())"
   ]
  },
  {
   "cell_type": "code",
   "execution_count": null,
   "id": "80bb4a22",
   "metadata": {},
   "outputs": [],
   "source": [
    "#Escalar Time\n",
    "df['Time_Scaled'] = df['Time'] / df['Time'].max()\n",
    "df['Hora_Seno'] = np.sin(2 * np.pi * df['Time'] / (60 * 60 * 24))\n",
    "df['Hora_Coseno'] = np.cos(2 * np.pi * df['Time'] / (60 * 60 * 24))"
   ]
  },
  {
   "cell_type": "code",
   "execution_count": null,
   "id": "ec0502dd",
   "metadata": {},
   "outputs": [],
   "source": [
    "#Transformacion Amount\n",
    "df['Amount_Log'] = np.log(df['Amount'] + 1e-5)\n",
    "scaler = StandardScaler()\n",
    "df['Amount_Scaled'] = scaler.fit_transform(df[['Amount']].values) #Lo pasamos como array para evitar un warning"
   ]
  },
  {
   "cell_type": "code",
   "execution_count": null,
   "id": "0ba05ab3",
   "metadata": {},
   "outputs": [],
   "source": [
    "#Interacción entre Amount y Time\n",
    "df['Amount_Time_Interaction'] = df['Amount_Scaled'] * df['Time_Scaled']\n",
    "\n",
    "#Eliminamos 'Time' (después de usarlo) y 'Amount' original (ya transformado)\n",
    "df = df.drop(['Time', 'Amount'], axis=1)"
   ]
  },
  {
   "cell_type": "code",
   "execution_count": null,
   "id": "8a687dc7",
   "metadata": {},
   "outputs": [],
   "source": [
    "# Dividimos los datos en características (X) y variable objetivo (y)\n",
    "X = df.drop('Class', axis=1)  # Excluimos 'Class'\n",
    "y = df['Class']\n",
    "\n",
    "#Dividimos los datos en conjuntos de entrenamiento y prueba\n",
    "X_train, X_test, y_train, y_test = train_test_split(X, y, test_size=0.3, random_state=42, stratify=y)"
   ]
  },
  {
   "cell_type": "code",
   "execution_count": null,
   "id": "3abcc38d",
   "metadata": {},
   "outputs": [],
   "source": [
    "#Escalar de las características (después de la división)\n",
    "scaler = StandardScaler()\n",
    "X_train = scaler.fit_transform(X_train)\n",
    "X_test = scaler.transform(X_test)"
   ]
  },
  {
   "cell_type": "code",
   "execution_count": null,
   "id": "e3b9c749",
   "metadata": {},
   "outputs": [],
   "source": [
    "modelos = {\n",
    "    \"Regresión Logística\": LogisticRegression(random_state=42, solver='liblinear'),\n",
    "    \"Random Forest\": RandomForestClassifier(random_state=42),\n",
    "    \"Red Neuronal\": MLPClassifier(random_state=42, max_iter=300, early_stopping=True), #Usa early stopping\n",
    "    \"Árbol de Decisión\": DecisionTreeClassifier(random_state=42),\n",
    "    \"Análisis Discriminante Lineal\": LinearDiscriminantAnalysis(),\n",
    "} \n"
   ]
  },
  {
   "cell_type": "code",
   "execution_count": null,
   "id": "572cbdfc",
   "metadata": {},
   "outputs": [
    {
     "name": "stdout",
     "output_type": "stream",
     "text": [
      "Entrenando: Regresión Logística\n",
      "Entrenando: Random Forest\n",
      "Entrenando: Red Neuronal\n",
      "Entrenando: Árbol de Decisión\n",
      "Entrenando: Análisis Discriminante Lineal\n",
      "\n",
      "Tabla de Resultados (DataFrame):\n",
      "                       Modelo  Precisión (Fraude)  Recall (Fraude)  F1-Score (Fraude)      AUC  Support (Fraude)\n",
      "          Regresión Logística            0.858586         0.598592           0.705394 0.969664             142.0\n",
      "                Random Forest            0.956140         0.767606           0.851562 0.934554             142.0\n",
      "                 Red Neuronal            0.867257         0.690141           0.768627 0.949575             142.0\n",
      "            Árbol de Decisión            0.755725         0.697183           0.725275 0.848403             142.0\n",
      "Análisis Discriminante Lineal            0.868852         0.746479           0.803030 0.975721             142.0\n"
     ]
    }
   ],
   "source": [
    "resultados = {}\n",
    "resultados_df_lista=[]\n",
    "for nombre, modelo in modelos.items():\n",
    "    print(f\"Entrenando: {nombre}\")\n",
    "    modelo.fit(X_train, y_train)\n",
    "    y_pred = modelo.predict(X_test)\n",
    "    y_prob = modelo.predict_proba(X_test)[:, 1]\n",
    "    reporte_dict = classification_report(y_test, y_pred, output_dict=True) \n",
    "    resultados[nombre] = {\n",
    "        \"informe\": reporte_dict,\n",
    "        \"auc\": roc_auc_score(y_test, y_prob),\n",
    "        \"modelo\": modelo\n",
    "    }\n",
    "\n",
    "    #Extraemos métricas relevantes (usando la clase fraudulenta '1')\n",
    "    if '1' in reporte_dict: #Se comprueba si la clase '1' está en el reporte\n",
    "        precision = reporte_dict['1']['precision']\n",
    "        recall = reporte_dict['1']['recall']\n",
    "        f1 = reporte_dict['1']['f1-score']\n",
    "        support = reporte_dict['1']['support'] #Número de muestras en la clase 1\n",
    "    else:\n",
    "        precision, recall, f1, support = 0, 0, 0, 0 # Si no está, usa ceros\n",
    "\n",
    "    auc = resultados[nombre]['auc']\n",
    "\n",
    "    #Añadimos los resultados a la lista para el DataFrame\n",
    "    resultados_df_lista.append([nombre, precision, recall, f1, auc, support])\n",
    "\n",
    "#Creamos el DataFrame\n",
    "resultados_df = pd.DataFrame(resultados_df_lista,\n",
    "                              columns=['Modelo', 'Precisión (Fraude)', 'Recall (Fraude)',\n",
    "                                       'F1-Score (Fraude)', 'AUC', 'Support (Fraude)'])\n",
    "\n",
    "#Tabla de resultados\n",
    "print(\"\\nTabla de Resultados (DataFrame):\")\n",
    "print(resultados_df.to_string(index=False)) #Muestra el DataFrame"
   ]
  },
  {
   "cell_type": "code",
   "execution_count": null,
   "id": "5d78a4e6",
   "metadata": {},
   "outputs": [
    {
     "name": "stdout",
     "output_type": "stream",
     "text": [
      "\n",
      "Tabla de Resultados (DataFrame) con Fraudes Detectados:\n",
      "                       Modelo  Precisión (Fraude)  Recall (Fraude)  F1-Score (Fraude)      AUC  Support (Fraude)  Fraudes Detectados\n",
      "          Regresión Logística            0.858586         0.598592           0.705394 0.969664             142.0                  85\n",
      "                Random Forest            0.956140         0.767606           0.851562 0.934554             142.0                 109\n",
      "                 Red Neuronal            0.867257         0.690141           0.768627 0.949575             142.0                  98\n",
      "            Árbol de Decisión            0.755725         0.697183           0.725275 0.848403             142.0                  99\n",
      "Análisis Discriminante Lineal            0.868852         0.746479           0.803030 0.975721             142.0                 106\n"
     ]
    }
   ],
   "source": [
    "#Calculamos el número de fraudes detectados\n",
    "resultados_df['Fraudes Detectados'] = resultados_df['Recall (Fraude)'] * resultados_df['Support (Fraude)']\n",
    "resultados_df['Fraudes Detectados'] = resultados_df['Fraudes Detectados'].round().astype(int) #Se redondea al entero más cercano\n",
    "\n",
    "#Tabla de resultados con la columna agregada\n",
    "print(\"\\nTabla de Resultados (DataFrame) con Fraudes Detectados:\")\n",
    "print(resultados_df.to_string(index=False))"
   ]
  },
  {
   "cell_type": "code",
   "execution_count": null,
   "id": "61451e29",
   "metadata": {},
   "outputs": [
    {
     "name": "stdout",
     "output_type": "stream",
     "text": [
      "\n",
      "Resultados para: Regresión Logística\n",
      "              precision    recall  f1-score   support\n",
      "\n",
      "           0       1.00      1.00      1.00     84976\n",
      "           1       0.86      0.60      0.71       142\n",
      "\n",
      "    accuracy                           1.00     85118\n",
      "   macro avg       0.93      0.80      0.85     85118\n",
      "weighted avg       1.00      1.00      1.00     85118\n",
      "\n",
      "AUC: 0.9697\n",
      "\n",
      "Resultados para: Random Forest\n",
      "              precision    recall  f1-score   support\n",
      "\n",
      "           0       1.00      1.00      1.00     84976\n",
      "           1       0.96      0.77      0.85       142\n",
      "\n",
      "    accuracy                           1.00     85118\n",
      "   macro avg       0.98      0.88      0.93     85118\n",
      "weighted avg       1.00      1.00      1.00     85118\n",
      "\n",
      "AUC: 0.9346\n",
      "\n",
      "Resultados para: Red Neuronal\n",
      "              precision    recall  f1-score   support\n",
      "\n",
      "           0       1.00      1.00      1.00     84976\n",
      "           1       0.87      0.69      0.77       142\n",
      "\n",
      "    accuracy                           1.00     85118\n",
      "   macro avg       0.93      0.84      0.88     85118\n",
      "weighted avg       1.00      1.00      1.00     85118\n",
      "\n",
      "AUC: 0.9496\n",
      "\n",
      "Resultados para: Árbol de Decisión\n",
      "              precision    recall  f1-score   support\n",
      "\n",
      "           0       1.00      1.00      1.00     84976\n",
      "           1       0.76      0.70      0.73       142\n",
      "\n",
      "    accuracy                           1.00     85118\n",
      "   macro avg       0.88      0.85      0.86     85118\n",
      "weighted avg       1.00      1.00      1.00     85118\n",
      "\n",
      "AUC: 0.8484\n",
      "\n",
      "Resultados para: Análisis Discriminante Lineal\n",
      "              precision    recall  f1-score   support\n",
      "\n",
      "           0       1.00      1.00      1.00     84976\n",
      "           1       0.87      0.75      0.80       142\n",
      "\n",
      "    accuracy                           1.00     85118\n",
      "   macro avg       0.93      0.87      0.90     85118\n",
      "weighted avg       1.00      1.00      1.00     85118\n",
      "\n",
      "AUC: 0.9757\n"
     ]
    }
   ],
   "source": [
    "#Resultados:\n",
    "for nombre, resultado in resultados.items():\n",
    "    print(f\"\\nResultados para: {nombre}\")\n",
    "    print(resultado[\"informe\"])\n",
    "    print(f\"AUC: {resultado['auc']:.4f}\")"
   ]
  },
  {
   "cell_type": "code",
   "execution_count": null,
   "id": "94a0cee9",
   "metadata": {},
   "outputs": [],
   "source": [
    "resultados_lista = []\n",
    "for nombre, resultado in resultados.items():\n",
    "    # Accede al recall de la clase '1' (fraudulenta) usando el entero 1, no la cadena '1'\n",
    "    try:\n",
    "        precision_fraude = resultado[\"informe\"][1]['precision']\n",
    "        recall_fraude = resultado[\"informe\"][1]['recall']\n",
    "        f1_fraude = resultado[\"informe\"][1]['f1-score']\n",
    "    except (KeyError, TypeError): #Maneja el caso donde el modelo no tiene resultados para la clase 1\n",
    "        precision_fraude, recall_fraude, f1_fraude = 0, 0, 0\n",
    "\n",
    "    auc = resultado['auc']\n",
    "\n",
    "    resultados_lista.append([nombre, precision_fraude, recall_fraude, f1_fraude, auc])\n",
    "\n",
    "resultados_df = pd.DataFrame(resultados_lista, columns=['Modelo', 'Precisión (Fraude)', 'Exhaustividad (Fraude)', 'F1-Score (Fraude)', 'AUC'])"
   ]
  },
  {
   "cell_type": "code",
   "execution_count": null,
   "id": "1cb43235",
   "metadata": {},
   "outputs": [
    {
     "name": "stderr",
     "output_type": "stream",
     "text": [
      "C:\\Users\\Tokyotech\\AppData\\Local\\Temp\\ipykernel_16392\\2968083734.py:2: FutureWarning: \n",
      "\n",
      "Passing `palette` without assigning `hue` is deprecated and will be removed in v0.14.0. Assign the `x` variable to `hue` and set `legend=False` for the same effect.\n",
      "\n",
      "  sns.barplot(x='Modelo', y='AUC', data=resultados_df, palette=\"viridis\")\n"
     ]
    },
    {
     "data": {
      "image/png": "[encoded data removed]",
      "text/plain": [
       "<Figure size 1200x800 with 1 Axes>"
      ]
     },
     "metadata": {},
     "output_type": "display_data"
    }
   ],
   "source": [
    "plt.figure(figsize=(12, 8))\n",
    "sns.barplot(x='Modelo', y='AUC', data=resultados_df, palette=\"viridis\")\n",
    "plt.title('Comparación de AUC por Modelo')\n",
    "plt.xticks(rotation=45, ha='right')\n",
    "plt.ylim(0.8, 1.0)  #Ajusta el rango del eje y para enfocarse en las diferencias\n",
    "plt.tight_layout()\n",
    "plt.show()\n"
   ]
  }
 ],
 "metadata": {
  "kernelspec": {
   "display_name": "Fraude",
   "language": "python",
   "name": "python3"
  },
  "language_info": {
   "codemirror_mode": {
    "name": "ipython",
    "version": 3
   },
   "file_extension": ".py",
   "mimetype": "text/x-python",
   "name": "python",
   "nbconvert_exporter": "python",
   "pygments_lexer": "ipython3",
   "version": "3.13.3"
  }
 },
 "nbformat": 4,
 "nbformat_minor": 5
}
